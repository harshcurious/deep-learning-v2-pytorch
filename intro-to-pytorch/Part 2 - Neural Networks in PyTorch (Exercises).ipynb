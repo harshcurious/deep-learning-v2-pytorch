{
 "cells": [
  {
   "cell_type": "markdown",
   "metadata": {},
   "source": [
    "# Neural networks with PyTorch\n",
    "\n",
    "Deep learning networks tend to be massive with dozens or hundreds of layers, that's where the term \"deep\" comes from. You can build one of these deep networks using only weight matrices as we did in the previous notebook, but in general it's very cumbersome and difficult to implement. PyTorch has a nice module `nn` that provides a nice way to efficiently build large neural networks."
   ]
  },
  {
   "cell_type": "code",
   "execution_count": 1,
   "metadata": {
    "tags": []
   },
   "outputs": [],
   "source": [
    "# Import necessary packages\n",
    "\n",
    "%matplotlib inline\n",
    "%config InlineBackend.figure_format = 'retina'\n",
    "\n",
    "import numpy as np\n",
    "import torch\n",
    "\n",
    "import helper\n",
    "\n",
    "import matplotlib.pyplot as plt"
   ]
  },
  {
   "cell_type": "markdown",
   "metadata": {},
   "source": [
    "\n",
    "Now we're going to build a larger network that can solve a (formerly) difficult problem, identifying text in an image. Here we'll use the MNIST dataset which consists of greyscale handwritten digits. Each image is 28x28 pixels, you can see a sample below\n",
    "\n",
    "<img src='assets/mnist.png'>\n",
    "\n",
    "Our goal is to build a neural network that can take one of these images and predict the digit in the image.\n",
    "\n",
    "First up, we need to get our dataset. This is provided through the `torchvision` package. The code below will download the MNIST dataset, then create training and test datasets for us. Don't worry too much about the details here, you'll learn more about this later."
   ]
  },
  {
   "cell_type": "code",
   "execution_count": 2,
   "metadata": {},
   "outputs": [],
   "source": [
    "# The MNIST datasets are hosted on yann.lecun.com that has moved under CloudFlare protection\n",
    "# Run this script to enable the datasets download\n",
    "# Reference: https://github.com/pytorch/vision/issues/1938\n",
    "\n",
    "from six.moves import urllib\n",
    "opener = urllib.request.build_opener()\n",
    "opener.addheaders = [('User-agent', 'Mozilla/5.0')]\n",
    "urllib.request.install_opener(opener)"
   ]
  },
  {
   "cell_type": "code",
   "execution_count": 3,
   "metadata": {
    "tags": []
   },
   "outputs": [],
   "source": [
    "### Run this cell\n",
    "\n",
    "from torchvision import datasets, transforms\n",
    "\n",
    "# Define a transform to normalize the data\n",
    "transform = transforms.Compose([transforms.ToTensor(),\n",
    "                              transforms.Normalize((0.5,), (0.5,)),\n",
    "                              ])\n",
    "\n",
    "# Download and load the training data\n",
    "trainset = datasets.MNIST('~/.pytorch/MNIST_data/', download=True, train=True, transform=transform)\n",
    "trainloader = torch.utils.data.DataLoader(trainset, batch_size=64, shuffle=True)"
   ]
  },
  {
   "cell_type": "markdown",
   "metadata": {},
   "source": [
    "We have the training data loaded into `trainloader` and we make that an iterator with `iter(trainloader)`. Later, we'll use this to loop through the dataset for training, like\n",
    "\n",
    "```python\n",
    "for image, label in trainloader:\n",
    "    ## do things with images and labels\n",
    "```\n",
    "\n",
    "You'll notice I created the `trainloader` with a batch size of 64, and `shuffle=True`. The batch size is the number of images we get in one iteration from the data loader and pass through our network, often called a *batch*. And `shuffle=True` tells it to shuffle the dataset every time we start going through the data loader again. But here I'm just grabbing the first batch so we can check out the data. We can see below that `images` is just a tensor with size `(64, 1, 28, 28)`. So, 64 images per batch, 1 color channel, and 28x28 images."
   ]
  },
  {
   "cell_type": "code",
   "execution_count": 4,
   "metadata": {
    "tags": []
   },
   "outputs": [
    {
     "name": "stdout",
     "output_type": "stream",
     "text": [
      "<class 'torch.Tensor'>\n",
      "torch.Size([64, 1, 28, 28])\n",
      "torch.Size([64])\n"
     ]
    }
   ],
   "source": [
    "dataiter = iter(trainloader)\n",
    "images, labels = dataiter.next()\n",
    "print(type(images))\n",
    "print(images.shape)\n",
    "print(labels.shape)"
   ]
  },
  {
   "cell_type": "markdown",
   "metadata": {},
   "source": [
    "This is what one of the images looks like. "
   ]
  },
  {
   "cell_type": "code",
   "execution_count": 5,
   "metadata": {
    "tags": []
   },
   "outputs": [
    {
     "data": {
      "image/png": "[encoded data removed]",
      "text/plain": [
       "<Figure size 432x288 with 1 Axes>"
      ]
     },
     "metadata": {
      "image/png": {
       "height": 248,
       "width": 251
      },
      "needs_background": "light"
     },
     "output_type": "display_data"
    }
   ],
   "source": [
    "plt.imshow(images[1].numpy().squeeze(), cmap='Greys_r');"
   ]
  },
  {
   "cell_type": "markdown",
   "metadata": {},
   "source": [
    "First, let's try to build a simple network for this dataset using weight matrices and matrix multiplications. Then, we'll see how to do it using PyTorch's `nn` module which provides a much more convenient and powerful method for defining network architectures.\n",
    "\n",
    "The networks you've seen so far are called *fully-connected* or *dense* networks. Each unit in one layer is connected to each unit in the next layer. In fully-connected networks, the input to each layer must be a one-dimensional vector (which can be stacked into a 2D tensor as a batch of multiple examples). However, our images are 28x28 2D tensors, so we need to convert them into 1D vectors. Thinking about sizes, we need to convert the batch of images with shape `(64, 1, 28, 28)` to a have a shape of `(64, 784)`, 784 is 28 times 28. This is typically called *flattening*, we flattened the 2D images into 1D vectors.\n",
    "\n",
    "Previously you built a network with one output unit. Here we need 10 output units, one for each digit. We want our network to predict the digit shown in an image, so what we'll do is calculate probabilities that the image is of any one digit or class. This ends up being a discrete probability distribution over the classes (digits) that tells us the most likely class for the image. That means we need 10 output units for the 10 classes (digits). We'll see how to convert the network output into a probability distribution next.\n",
    "\n",
    "> **Exercise:** Flatten the batch of images `images`. Then build a multi-layer network with 784 input units, 256 hidden units, and 10 output units using random tensors for the weights and biases. For now, use a sigmoid activation for the hidden layer. Leave the output layer without an activation, we'll add one that gives us a probability distribution next."
   ]
  },
  {
   "cell_type": "markdown",
   "metadata": {
    "tags": []
   },
   "source": [
    "**Random Stuff**\n",
    "\n",
    "Trying out the [`flatten` function](https://pytorch.org/docs/stable/generated/torch.flatten.html#torch.flatten) from PyTorch"
   ]
  },
  {
   "cell_type": "code",
   "execution_count": 6,
   "metadata": {
    "tags": []
   },
   "outputs": [
    {
     "name": "stdout",
     "output_type": "stream",
     "text": [
      "torch.Size([1, 4, 2])\n",
      "tensor([1, 2, 3, 4, 5, 6, 7, 8])\n",
      "tensor([[1, 2, 3, 4, 5, 6, 7, 8]]) \n",
      "shape = torch.Size([1, 8])\n"
     ]
    }
   ],
   "source": [
    "t = torch.tensor([[[1,2],[3,4],[5,6],[7,8]]])\n",
    "print(t.shape)\n",
    "print(torch.flatten(t))\n",
    "tf = torch.flatten(t, start_dim=1)\n",
    "print(tf, f\"\\nshape = {tf.shape}\")"
   ]
  },
  {
   "cell_type": "code",
   "execution_count": 7,
   "metadata": {
    "tags": []
   },
   "outputs": [],
   "source": [
    "## Your solution\n",
    "images = torch.flatten(images, start_dim=1)\n",
    "# images = images.view(images.shape[0], -1)"
   ]
  },
  {
   "cell_type": "markdown",
   "metadata": {
    "tags": []
   },
   "source": [
    "Checking that my flatten function did the same job as \n",
    "```python\n",
    "inputs = images.view(images.shape[0], -1)\n",
    "```\n",
    "from the solution"
   ]
  },
  {
   "cell_type": "code",
   "execution_count": 8,
   "metadata": {
    "tags": []
   },
   "outputs": [
    {
     "name": "stdout",
     "output_type": "stream",
     "text": [
      "<class 'torch.Tensor'>\n",
      "torch.Size([64, 784])\n",
      "torch.Size([64])\n"
     ]
    }
   ],
   "source": [
    "# print(type(trainloader))\n",
    "# images, labels = trainloader[0]\n",
    "print(type(images))\n",
    "print(images.shape)\n",
    "print(labels.shape)\n",
    "\n",
    "# out = # output of your network, should have shape (64,10)"
   ]
  },
  {
   "cell_type": "code",
   "execution_count": 9,
   "metadata": {},
   "outputs": [],
   "source": [
    "def activation(x):\n",
    "    \"\"\" Sigmoid activation function \n",
    "    \n",
    "        Arguments\n",
    "        ---------\n",
    "        x: torch.Tensor\n",
    "    \"\"\"\n",
    "    return 1/(1+torch.exp(-x))\n",
    "\n",
    "n_features = images.shape[0]\n",
    "n_input = images.shape[1]\n",
    "n_hidden = 256\n",
    "n_output = 10\n",
    "\n",
    "# Weight initialization\n",
    "W1 = torch.randn(n_input, n_hidden)\n",
    "W2 = torch.randn(n_hidden, n_output)\n",
    "\n",
    "# Bias initialization\n",
    "B1 = torch.randn(n_hidden)\n",
    "B2 = torch.randn(n_output)\n",
    "\n",
    "# Calculations for the hidden layer\n",
    "hidden_in = torch.mm(images, W1)\n",
    "hidden_out = activation(hidden_in + B1)\n",
    "\n",
    "output_in = torch.mm(hidden_out, W2)\n",
    "output_out = activation(output_in + B2)"
   ]
  },
  {
   "cell_type": "code",
   "execution_count": 10,
   "metadata": {},
   "outputs": [
    {
     "name": "stdout",
     "output_type": "stream",
     "text": [
      "torch.Size([64, 256]) torch.Size([256])\n",
      "torch.Size([64, 256])\n",
      "torch.Size([64, 10]) torch.Size([10])\n",
      "tensor([[5.2192e-07, 3.3991e-07, 4.1549e-04, 6.8854e-06, 3.7910e-01, 3.1530e-08,\n",
      "         9.9940e-01, 4.2850e-04, 9.9580e-01, 4.2862e-14],\n",
      "        [2.7128e-04, 9.0296e-02, 2.8849e-01, 1.6774e-10, 9.9973e-01, 5.8283e-05,\n",
      "         1.0000e+00, 1.1105e-09, 1.0000e+00, 3.1998e-18],\n",
      "        [1.0334e-05, 7.2504e-02, 4.1877e-02, 3.0613e-07, 8.7870e-01, 2.9772e-01,\n",
      "         9.9015e-01, 3.0041e-09, 1.0000e+00, 1.8670e-13],\n",
      "        [1.0924e-03, 2.0301e-01, 3.8706e-02, 1.1541e-10, 9.9999e-01, 4.7320e-06,\n",
      "         9.9999e-01, 5.3885e-09, 9.9998e-01, 1.7309e-09],\n",
      "        [5.6930e-06, 5.8645e-01, 9.9108e-01, 5.5455e-09, 9.9782e-02, 3.7653e-06,\n",
      "         9.9792e-01, 3.9097e-06, 1.0000e+00, 8.0410e-13],\n",
      "        [7.3877e-06, 5.8891e-01, 1.2009e-01, 2.2910e-07, 7.5400e-01, 8.8091e-07,\n",
      "         9.9969e-01, 4.0590e-09, 9.9993e-01, 5.0026e-17],\n",
      "        [5.0796e-05, 3.5843e-03, 4.4698e-03, 1.3901e-11, 9.9976e-01, 3.3421e-06,\n",
      "         8.9388e-01, 6.6128e-08, 9.9537e-01, 5.9184e-16],\n",
      "        [1.3977e-05, 9.3199e-01, 1.4152e-05, 2.5711e-06, 9.9998e-01, 8.6066e-02,\n",
      "         9.6132e-01, 4.7180e-09, 1.0000e+00, 2.8439e-14],\n",
      "        [4.6113e-04, 9.9188e-01, 7.1915e-01, 5.9590e-10, 9.4903e-01, 9.6510e-05,\n",
      "         9.9959e-01, 4.5509e-07, 1.0000e+00, 8.6981e-14],\n",
      "        [3.3667e-03, 7.0864e-01, 8.8663e-01, 3.5084e-03, 9.9993e-01, 8.7035e-03,\n",
      "         9.5439e-01, 1.7320e-11, 9.9995e-01, 1.9759e-11],\n",
      "        [5.3787e-06, 2.8988e-02, 9.9050e-01, 4.4899e-09, 9.7639e-01, 3.3271e-06,\n",
      "         9.5853e-01, 3.0839e-09, 9.9916e-01, 6.6665e-12],\n",
      "        [5.6254e-08, 9.9910e-01, 5.4510e-01, 2.5214e-15, 1.0000e+00, 2.1503e-06,\n",
      "         2.3045e-01, 2.2143e-10, 9.6095e-01, 8.9689e-18],\n",
      "        [4.5866e-06, 9.9366e-01, 9.5003e-01, 2.8376e-03, 1.0000e+00, 1.0330e-03,\n",
      "         9.9990e-01, 2.0235e-08, 9.7531e-01, 1.4442e-10],\n",
      "        [3.1285e-07, 2.3753e-04, 1.5265e-01, 4.7399e-05, 1.7036e-01, 1.2495e-07,\n",
      "         9.4480e-01, 7.6363e-14, 9.9507e-01, 7.5963e-17],\n",
      "        [7.6504e-03, 9.9582e-02, 2.6101e-01, 7.3359e-09, 7.9859e-01, 1.1078e-06,\n",
      "         5.7700e-01, 5.1969e-08, 7.7224e-01, 6.1425e-18],\n",
      "        [9.0800e-07, 7.7143e-03, 2.2726e-01, 1.3431e-11, 9.9904e-01, 7.8151e-02,\n",
      "         9.9521e-01, 3.1394e-09, 1.0000e+00, 4.8627e-18],\n",
      "        [2.7069e-05, 1.2217e-01, 9.2402e-01, 6.1807e-08, 9.9672e-01, 7.8148e-04,\n",
      "         8.2873e-01, 4.2532e-06, 9.9960e-01, 4.6901e-18],\n",
      "        [2.4406e-05, 7.0156e-01, 1.8864e-03, 2.5356e-10, 1.5380e-01, 2.0149e-10,\n",
      "         9.9986e-01, 8.5155e-09, 9.9657e-01, 8.1510e-15],\n",
      "        [1.7062e-05, 6.7736e-02, 5.6321e-04, 2.3512e-05, 9.9291e-01, 5.4769e-05,\n",
      "         6.8449e-01, 2.3321e-09, 9.9999e-01, 4.8265e-17],\n",
      "        [2.0912e-06, 6.9411e-02, 6.1575e-03, 2.0077e-06, 8.3457e-01, 3.7200e-08,\n",
      "         9.9897e-01, 9.2226e-11, 9.9987e-01, 2.8077e-12],\n",
      "        [5.2186e-10, 3.1506e-01, 3.3600e-01, 2.4485e-05, 9.9638e-01, 3.8245e-05,\n",
      "         9.6590e-01, 1.8371e-07, 9.9991e-01, 1.0397e-12],\n",
      "        [1.0135e-04, 9.9999e-01, 2.2001e-03, 5.5424e-04, 9.9998e-01, 2.2591e-06,\n",
      "         9.9970e-01, 1.3331e-08, 9.9839e-01, 2.6297e-10],\n",
      "        [1.6726e-03, 9.9995e-01, 6.8968e-05, 3.6715e-04, 3.2088e-01, 3.0159e-04,\n",
      "         8.3524e-01, 2.8829e-07, 8.4159e-01, 1.4461e-09],\n",
      "        [3.9315e-04, 5.8050e-05, 1.2891e-02, 4.6418e-06, 9.9999e-01, 7.8166e-06,\n",
      "         1.7261e-02, 2.6794e-05, 9.9997e-01, 3.3450e-19],\n",
      "        [4.0293e-04, 1.7880e-02, 3.2123e-02, 1.7580e-07, 9.7666e-01, 4.0654e-06,\n",
      "         9.9907e-01, 1.1331e-07, 9.3053e-01, 4.0080e-16],\n",
      "        [2.8203e-13, 2.1760e-01, 1.4575e-02, 1.1426e-13, 9.9976e-01, 9.1130e-10,\n",
      "         9.9999e-01, 1.4683e-06, 9.9396e-01, 5.7291e-15],\n",
      "        [2.2635e-07, 3.4040e-01, 9.7115e-01, 8.1367e-09, 7.2254e-01, 1.0745e-04,\n",
      "         2.1929e-01, 2.9709e-10, 9.9228e-01, 1.8345e-13],\n",
      "        [1.3079e-08, 7.0049e-03, 1.7250e-05, 1.6037e-11, 3.6141e-02, 1.2092e-05,\n",
      "         9.9745e-01, 1.5176e-08, 9.8668e-01, 1.3773e-15],\n",
      "        [2.6859e-07, 2.6537e-01, 2.0517e-02, 9.0013e-10, 9.9979e-01, 2.2410e-08,\n",
      "         1.0000e+00, 7.1918e-08, 9.9802e-01, 2.2235e-12],\n",
      "        [2.5426e-04, 5.3740e-02, 1.2891e-03, 9.7561e-06, 8.7761e-01, 2.8730e-04,\n",
      "         9.9658e-01, 6.1343e-11, 9.9999e-01, 3.5048e-12],\n",
      "        [7.5044e-10, 7.5702e-01, 2.1544e-04, 8.6376e-10, 1.0000e+00, 4.8795e-08,\n",
      "         9.9998e-01, 3.2671e-10, 9.9983e-01, 2.9753e-17],\n",
      "        [1.1420e-08, 9.9997e-01, 9.7472e-01, 1.1394e-10, 1.0000e+00, 1.3083e-02,\n",
      "         9.9977e-01, 5.2895e-09, 9.9977e-01, 3.8250e-13],\n",
      "        [1.0506e-07, 4.1552e-02, 7.3990e-03, 1.8504e-10, 3.3227e-02, 1.1927e-02,\n",
      "         9.9996e-01, 2.1818e-06, 9.9986e-01, 5.2919e-14],\n",
      "        [2.8721e-08, 5.1080e-02, 6.7371e-01, 4.0216e-08, 9.9775e-01, 8.6337e-08,\n",
      "         9.9987e-01, 2.8032e-07, 9.6199e-01, 1.7649e-11],\n",
      "        [3.1075e-07, 3.1014e-03, 8.0563e-01, 8.6926e-09, 9.9998e-01, 5.1899e-07,\n",
      "         6.8477e-01, 7.0954e-08, 9.3499e-01, 6.6356e-19],\n",
      "        [6.5463e-06, 8.1974e-01, 3.1496e-05, 6.7702e-09, 6.4505e-01, 1.4017e-08,\n",
      "         9.9994e-01, 3.3699e-11, 9.8898e-01, 5.1930e-12],\n",
      "        [4.2735e-05, 9.8504e-02, 3.1599e-03, 8.2985e-09, 4.3114e-02, 1.9926e-05,\n",
      "         9.9999e-01, 8.7133e-06, 9.9951e-01, 9.9193e-15],\n",
      "        [9.7331e-10, 1.8710e-02, 2.8330e-02, 1.5986e-07, 9.9970e-01, 9.4608e-08,\n",
      "         9.9940e-01, 2.5379e-05, 7.9741e-01, 2.1382e-13],\n",
      "        [1.5053e-07, 8.9334e-01, 1.6269e-03, 3.5673e-08, 3.6360e-01, 1.2969e-02,\n",
      "         1.0000e+00, 4.5609e-07, 9.9996e-01, 1.3648e-13],\n",
      "        [5.5394e-07, 3.3692e-01, 2.1243e-03, 9.6311e-06, 1.0000e+00, 1.6427e-05,\n",
      "         9.9971e-01, 1.2023e-04, 9.9958e-01, 1.1224e-13],\n",
      "        [1.5785e-02, 9.4961e-01, 2.0378e-01, 3.5033e-04, 9.7115e-01, 2.8929e-04,\n",
      "         1.0998e-01, 4.6981e-12, 1.0000e+00, 2.8167e-12],\n",
      "        [7.1325e-05, 9.7096e-01, 8.2752e-04, 7.1538e-09, 1.0000e+00, 4.5722e-07,\n",
      "         9.9468e-01, 1.4038e-08, 1.0000e+00, 1.2087e-18],\n",
      "        [9.6518e-04, 9.9982e-01, 5.1706e-04, 3.3430e-08, 9.8251e-01, 4.4646e-05,\n",
      "         9.9353e-01, 2.2323e-08, 9.9983e-01, 1.2544e-14],\n",
      "        [8.2818e-06, 2.2824e-04, 2.6935e-03, 1.5451e-09, 9.9973e-01, 1.7561e-06,\n",
      "         1.1457e-02, 1.2711e-11, 1.0000e+00, 3.0235e-15],\n",
      "        [5.5858e-04, 5.9898e-01, 8.0297e-02, 9.0332e-08, 1.0000e+00, 2.7561e-05,\n",
      "         9.9993e-01, 2.6547e-09, 1.0000e+00, 2.3876e-18],\n",
      "        [3.9508e-06, 7.4394e-04, 9.0005e-01, 5.4812e-08, 9.9962e-01, 1.1828e-02,\n",
      "         9.9936e-01, 1.7231e-04, 9.9982e-01, 5.2241e-17],\n",
      "        [1.1462e-08, 1.1552e-05, 2.2037e-03, 8.1915e-06, 9.9353e-01, 4.7471e-10,\n",
      "         6.5794e-01, 5.8227e-10, 5.1963e-01, 1.3916e-12],\n",
      "        [9.8889e-08, 1.2480e-03, 7.1447e-04, 3.2491e-07, 9.9285e-01, 8.1179e-09,\n",
      "         7.1461e-01, 2.3615e-08, 9.9871e-01, 2.4036e-13],\n",
      "        [2.2258e-04, 3.4668e-05, 1.0211e-04, 5.8329e-06, 9.8632e-01, 3.2146e-05,\n",
      "         9.7590e-01, 5.4520e-12, 9.9776e-01, 7.7727e-11],\n",
      "        [4.4087e-08, 3.8931e-08, 4.6872e-04, 7.0335e-04, 8.0917e-01, 3.3431e-07,\n",
      "         7.4533e-01, 7.7763e-09, 9.3424e-01, 9.4051e-13],\n",
      "        [1.3902e-05, 9.9839e-01, 6.1799e-03, 2.0238e-12, 4.1868e-04, 2.7702e-09,\n",
      "         9.9997e-01, 2.5384e-07, 9.9999e-01, 6.0969e-18],\n",
      "        [1.6899e-02, 4.8539e-01, 1.9435e-01, 4.8024e-03, 9.9994e-01, 5.1031e-03,\n",
      "         9.9500e-01, 4.0736e-11, 9.9950e-01, 4.0320e-09],\n",
      "        [9.4019e-10, 9.9239e-01, 5.6978e-03, 3.2876e-05, 7.0508e-01, 3.3003e-05,\n",
      "         1.0000e+00, 2.0756e-05, 1.0000e+00, 1.3803e-10],\n",
      "        [1.9553e-07, 9.2163e-04, 5.1882e-02, 1.5797e-07, 9.9947e-01, 1.5704e-05,\n",
      "         6.8420e-01, 5.2178e-10, 1.0000e+00, 3.0333e-17],\n",
      "        [3.1903e-06, 1.7955e-03, 9.6824e-01, 1.1684e-07, 9.9999e-01, 5.0613e-06,\n",
      "         9.9922e-01, 1.5617e-07, 9.9878e-01, 1.2122e-16],\n",
      "        [2.1479e-02, 7.2137e-01, 2.9969e-03, 1.0478e-10, 9.9992e-01, 2.1460e-06,\n",
      "         1.0000e+00, 1.5690e-07, 1.0000e+00, 1.4038e-09],\n",
      "        [6.8278e-07, 5.7937e-04, 4.5475e-04, 1.0586e-08, 2.7672e-01, 1.9340e-05,\n",
      "         7.5784e-01, 7.0048e-05, 1.0000e+00, 2.3474e-15],\n",
      "        [9.6213e-11, 5.6744e-03, 2.0001e-02, 1.8458e-07, 9.5813e-01, 7.4109e-02,\n",
      "         9.9297e-01, 5.6917e-13, 9.8909e-01, 4.8892e-15],\n",
      "        [2.5149e-03, 6.9319e-02, 5.1079e-03, 1.0077e-07, 9.9302e-01, 4.0950e-04,\n",
      "         6.8770e-01, 3.4362e-08, 9.9993e-01, 8.8412e-15],\n",
      "        [2.3908e-03, 9.9104e-01, 3.1531e-07, 7.7385e-08, 9.9998e-01, 4.5813e-05,\n",
      "         9.9998e-01, 9.7095e-07, 9.9997e-01, 1.8878e-10],\n",
      "        [4.7866e-05, 6.5297e-02, 8.8702e-01, 1.0112e-08, 9.9787e-01, 1.4412e-04,\n",
      "         8.3124e-02, 4.0304e-08, 9.9999e-01, 2.3895e-13],\n",
      "        [4.3592e-06, 8.6143e-01, 1.6611e-05, 3.2844e-11, 1.0000e+00, 1.5284e-04,\n",
      "         6.9559e-01, 5.0444e-05, 9.9582e-01, 8.1647e-14],\n",
      "        [1.0005e-05, 4.2291e-01, 1.5832e-01, 1.4918e-09, 9.9950e-01, 5.2928e-06,\n",
      "         9.9912e-01, 1.1648e-06, 9.9992e-01, 4.1553e-15],\n",
      "        [2.6774e-03, 4.1220e-02, 3.7013e-03, 1.6029e-08, 9.8456e-01, 1.9249e-06,\n",
      "         9.7478e-01, 2.1838e-05, 9.9435e-01, 4.9835e-14]])\n",
      "torch.Size([64, 10])\n"
     ]
    }
   ],
   "source": [
    "print(hidden_in.shape, B1.shape)\n",
    "print(hidden_out.shape)\n",
    "print(output_in.shape, B2.shape)\n",
    "print(output_out)\n",
    "print(output_out.shape)"
   ]
  },
  {
   "cell_type": "markdown",
   "metadata": {},
   "source": [
    "Now we have 10 outputs for our network. We want to pass in an image to our network and get out a probability distribution over the classes that tells us the likely class(es) the image belongs to. Something that looks like this:\n",
    "<img src='assets/image_distribution.png' width=500px>\n",
    "\n",
    "Here we see that the probability for each class is roughly the same. This is representing an untrained network, it hasn't seen any data yet so it just returns a uniform distribution with equal probabilities for each class.\n",
    "\n",
    "To calculate this probability distribution, we often use the [**softmax** function](https://en.wikipedia.org/wiki/Softmax_function). Mathematically this looks like\n",
    "\n",
    "$$\n",
    "\\Large \\sigma(x_i) = \\cfrac{e^{x_i}}{\\sum_k^K{e^{x_k}}}\n",
    "$$\n",
    "\n",
    "What this does is squish each input $x_i$ between 0 and 1 and normalizes the values to give you a proper probability distribution where the probabilites sum up to one.\n",
    "\n",
    "> **Exercise:** Implement a function `softmax` that performs the softmax calculation and returns probability distributions for each example in the batch. Note that you'll need to pay attention to the shapes when doing this. If you have a tensor `a` with shape `(64, 10)` and a tensor `b` with shape `(64,)`, doing `a/b` will give you an error because PyTorch will try to do the division across the columns (called broadcasting) but you'll get a size mismatch. The way to think about this is for each of the 64 examples, you only want to divide by one value, the sum in the denominator. So you need `b` to have a shape of `(64, 1)`. This way PyTorch will divide the 10 values in each row of `a` by the one value in each row of `b`. Pay attention to how you take the sum as well. You'll need to define the `dim` keyword in `torch.sum`. Setting `dim=0` takes the sum across the rows while `dim=1` takes the sum across the columns."
   ]
  },
  {
   "cell_type": "code",
   "execution_count": 11,
   "metadata": {
    "tags": []
   },
   "outputs": [
    {
     "name": "stdout",
     "output_type": "stream",
     "text": [
      "torch.Size([64, 10])\n",
      "tensor([1.0000, 1.0000, 1.0000, 1.0000, 1.0000, 1.0000, 1.0000, 1.0000, 1.0000,\n",
      "        1.0000, 1.0000, 1.0000, 1.0000, 1.0000, 1.0000, 1.0000, 1.0000, 1.0000,\n",
      "        1.0000, 1.0000, 1.0000, 1.0000, 1.0000, 1.0000, 1.0000, 1.0000, 1.0000,\n",
      "        1.0000, 1.0000, 1.0000, 1.0000, 1.0000, 1.0000, 1.0000, 1.0000, 1.0000,\n",
      "        1.0000, 1.0000, 1.0000, 1.0000, 1.0000, 1.0000, 1.0000, 1.0000, 1.0000,\n",
      "        1.0000, 1.0000, 1.0000, 1.0000, 1.0000, 1.0000, 1.0000, 1.0000, 1.0000,\n",
      "        1.0000, 1.0000, 1.0000, 1.0000, 1.0000, 1.0000, 1.0000, 1.0000, 1.0000,\n",
      "        1.0000])\n"
     ]
    }
   ],
   "source": [
    "def softmax(x):\n",
    "    ## TODO: Implement the softmax function here\n",
    "    return torch.exp(x) / torch.sum(torch.exp(x), dim=1).view(-1, 1)\n",
    "\n",
    "# Here, out should be the output of the network in the previous excercise with shape (64,10)\n",
    "probabilities = softmax(output_out)\n",
    "\n",
    "# Does it have the right shape? Should be (64, 10)\n",
    "print(probabilities.shape)\n",
    "# Does it sum to 1?\n",
    "print(probabilities.sum(dim=1))"
   ]
  },
  {
   "cell_type": "markdown",
   "metadata": {},
   "source": [
    "## Building networks with PyTorch\n",
    "\n",
    "PyTorch provides a module `nn` that makes building networks much simpler. Here I'll show you how to build the same one as above with 784 inputs, 256 hidden units, 10 output units and a softmax output."
   ]
  },
  {
   "cell_type": "code",
   "execution_count": 13,
   "metadata": {
    "tags": []
   },
   "outputs": [],
   "source": [
    "from torch import nn"
   ]
  },
  {
   "cell_type": "code",
   "execution_count": 14,
   "metadata": {
    "tags": []
   },
   "outputs": [],
   "source": [
    "class Network(nn.Module):\n",
    "    def __init__(self):\n",
    "        super().__init__()\n",
    "        \n",
    "        # Inputs to hidden layer linear transformation\n",
    "        self.hidden = nn.Linear(784, 256)\n",
    "        # Output layer, 10 units - one for each digit\n",
    "        self.output = nn.Linear(256, 10)\n",
    "        \n",
    "        # Define sigmoid activation and softmax output \n",
    "        self.sigmoid = nn.Sigmoid()\n",
    "        self.softmax = nn.Softmax(dim=1)\n",
    "        \n",
    "    def forward(self, x):\n",
    "        # Pass the input tensor through each of our operations\n",
    "        x = self.hidden(x)\n",
    "        x = self.sigmoid(x)\n",
    "        x = self.output(x)\n",
    "        x = self.softmax(x)\n",
    "        \n",
    "        return x"
   ]
  },
  {
   "cell_type": "markdown",
   "metadata": {},
   "source": [
    "Let's go through this bit by bit.\n",
    "\n",
    "```python\n",
    "class Network(nn.Module):\n",
    "```\n",
    "\n",
    "Here we're inheriting from `nn.Module`. Combined with `super().__init__()` this creates a **sub-class** that tracks the architecture and provides a lot of useful methods and attributes. It is mandatory to inherit from `nn.Module` when you're creating a class for your network. The name of the class itself can be anything.\n",
    "\n",
    "```python\n",
    "self.hidden = nn.Linear(784, 256)\n",
    "```\n",
    "\n",
    "This line creates a module for a linear transformation, $x\\mathbf{W} + b$, with 784 inputs and 256 outputs and assigns it to `self.hidden`. The module automatically creates the weight and bias tensors which we'll use in the `forward` method. You can access the weight and bias tensors once the network (`net`) is created with `net.hidden.weight` and `net.hidden.bias`.\n",
    "\n",
    "```python\n",
    "self.output = nn.Linear(256, 10)\n",
    "```\n",
    "\n",
    "Similarly, this creates another linear transformation with 256 inputs and 10 outputs.\n",
    "\n",
    "```python\n",
    "self.sigmoid = nn.Sigmoid()\n",
    "self.softmax = nn.Softmax(dim=1)\n",
    "```\n",
    "\n",
    "Here I defined operations for the sigmoid activation and softmax output. Setting `dim=1` in `nn.Softmax(dim=1)` calculates softmax across the columns.\n",
    "\n",
    "```python\n",
    "def forward(self, x):\n",
    "```\n",
    "\n",
    "PyTorch networks created with `nn.Module` must have a `forward` method defined. It takes in a tensor `x` and passes it through the operations you defined in the `__init__` method.\n",
    "\n",
    "```python\n",
    "x = self.hidden(x)\n",
    "x = self.sigmoid(x)\n",
    "x = self.output(x)\n",
    "x = self.softmax(x)\n",
    "```\n",
    "\n",
    "Here the input tensor `x` is passed through each operation and reassigned to `x`. We can see that the input tensor goes through the hidden layer, then a sigmoid function, then the output layer, and finally the softmax function. It doesn't matter what you name the variables here, as long as the inputs and outputs of the operations match the network architecture you want to build. The order in which you define things in the `__init__` method doesn't matter, but you'll need to sequence the operations correctly in the `forward` method.\n",
    "\n",
    "Now we can create a `Network` object."
   ]
  },
  {
   "cell_type": "code",
   "execution_count": 15,
   "metadata": {
    "tags": []
   },
   "outputs": [
    {
     "data": {
      "text/plain": [
       "Network(\n",
       "  (hidden): Linear(in_features=784, out_features=256, bias=True)\n",
       "  (output): Linear(in_features=256, out_features=10, bias=True)\n",
       "  (sigmoid): Sigmoid()\n",
       "  (softmax): Softmax(dim=1)\n",
       ")"
      ]
     },
     "execution_count": 15,
     "metadata": {},
     "output_type": "execute_result"
    }
   ],
   "source": [
    "# Create the network and look at it's text representation\n",
    "model = Network()\n",
    "model"
   ]
  },
  {
   "cell_type": "markdown",
   "metadata": {},
   "source": [
    "You can define the network somewhat more concisely and clearly using the `torch.nn.functional` module. This is the most common way you'll see networks defined as many operations are simple element-wise functions. We normally import this module as `F`, `import torch.nn.functional as F`."
   ]
  },
  {
   "cell_type": "code",
   "execution_count": 16,
   "metadata": {
    "tags": []
   },
   "outputs": [],
   "source": [
    "import torch.nn.functional as F\n",
    "\n",
    "class Network(nn.Module):\n",
    "    def __init__(self):\n",
    "        super().__init__()\n",
    "        # Inputs to hidden layer linear transformation\n",
    "        self.hidden = nn.Linear(784, 256)\n",
    "        # Output layer, 10 units - one for each digit\n",
    "        self.output = nn.Linear(256, 10)\n",
    "        \n",
    "    def forward(self, x):\n",
    "        # Hidden layer with sigmoid activation\n",
    "        x = F.sigmoid(self.hidden(x))\n",
    "        # Output layer with softmax activation\n",
    "        x = F.softmax(self.output(x), dim=1)\n",
    "        \n",
    "        return x"
   ]
  },
  {
   "cell_type": "markdown",
   "metadata": {},
   "source": [
    "### Activation functions\n",
    "\n",
    "So far we've only been looking at the sigmoid activation function, but in general any function can be used as an activation function. The only requirement is that for a network to approximate a non-linear function, the activation functions must be non-linear. Here are a few more examples of common activation functions: Tanh (hyperbolic tangent), and ReLU (rectified linear unit).\n",
    "\n",
    "<img src=\"assets/activation.png\" width=700px>\n",
    "\n",
    "In practice, the ReLU function is used almost exclusively as the activation function for hidden layers."
   ]
  },
  {
   "cell_type": "markdown",
   "metadata": {},
   "source": [
    "### Your Turn to Build a Network\n",
    "\n",
    "<img src=\"assets/mlp_mnist.png\" width=600px>\n",
    "\n",
    "> **Exercise:** Create a network with 784 input units, a hidden layer with 128 units and a ReLU activation, then a hidden layer with 64 units and a ReLU activation, and finally an output layer with a softmax activation as shown above. You can use a ReLU activation with the `nn.ReLU` module or `F.relu` function.\n",
    "\n",
    "It's good practice to name your layers by their type of network, for instance 'fc' to represent a fully-connected layer. As you code your solution, use `fc1`, `fc2`, and `fc3` as your layer names."
   ]
  },
  {
   "cell_type": "code",
   "execution_count": 26,
   "metadata": {
    "scrolled": true,
    "tags": []
   },
   "outputs": [
    {
     "data": {
      "text/plain": [
       "ThreeLayer(\n",
       "  (fc1): Linear(in_features=784, out_features=128, bias=True)\n",
       "  (fc2): Linear(in_features=128, out_features=64, bias=True)\n",
       "  (fc3): Linear(in_features=64, out_features=10, bias=True)\n",
       ")"
      ]
     },
     "execution_count": 26,
     "metadata": {},
     "output_type": "execute_result"
    }
   ],
   "source": [
    "## Your solution here\n",
    "class ThreeLayer(nn.Module):\n",
    "    def __init__(self):\n",
    "        super().__init__()\n",
    "        # network with 784 input units, \n",
    "        # a hidden layer with 128 units and a ReLU activation\n",
    "        self.fc1 = nn.Linear(784, 128)\n",
    "        # a hidden layer with 64 units and a ReLU activation\n",
    "        self.fc2 = nn.Linear(128, 64)\n",
    "        # output layer with a softmax activation as shown above\n",
    "        self.fc3 = nn.Linear(64,10)\n",
    "        \n",
    "    def forward(self, x):\n",
    "        x = F.relu(self.fc1(x))\n",
    "        x = F.relu(self.fc2(x))\n",
    "        x = F.softmax(self.fc3(x), dim=1)\n",
    "        \n",
    "        return x\n",
    "\n",
    "model = ThreeLayer()\n",
    "model"
   ]
  },
  {
   "cell_type": "markdown",
   "metadata": {},
   "source": [
    "### Initializing weights and biases\n",
    "\n",
    "The weights and such are automatically initialized for you, but it's possible to customize how they are initialized. The weights and biases are tensors attached to the layer you defined, you can get them with `model.fc1.weight` for instance."
   ]
  },
  {
   "cell_type": "code",
   "execution_count": 27,
   "metadata": {
    "tags": []
   },
   "outputs": [
    {
     "name": "stdout",
     "output_type": "stream",
     "text": [
      "Parameter containing:\n",
      "tensor([[ 0.0024, -0.0224,  0.0028,  ...,  0.0097, -0.0211, -0.0050],\n",
      "        [-0.0315,  0.0354,  0.0021,  ...,  0.0317,  0.0282,  0.0188],\n",
      "        [ 0.0079,  0.0116, -0.0092,  ..., -0.0059, -0.0157,  0.0058],\n",
      "        ...,\n",
      "        [ 0.0061, -0.0201, -0.0232,  ..., -0.0101, -0.0011,  0.0327],\n",
      "        [-0.0081,  0.0270,  0.0051,  ..., -0.0038,  0.0235, -0.0217],\n",
      "        [ 0.0240,  0.0268, -0.0142,  ..., -0.0189,  0.0128, -0.0092]],\n",
      "       requires_grad=True)\n",
      "Parameter containing:\n",
      "tensor([ 0.0324, -0.0095,  0.0092, -0.0146,  0.0170,  0.0271,  0.0089, -0.0300,\n",
      "         0.0054,  0.0046,  0.0026, -0.0009,  0.0085,  0.0223, -0.0005,  0.0138,\n",
      "         0.0308,  0.0002,  0.0167,  0.0121,  0.0273,  0.0105,  0.0024,  0.0003,\n",
      "         0.0016, -0.0209, -0.0310,  0.0045,  0.0306,  0.0348, -0.0281,  0.0167,\n",
      "        -0.0110, -0.0082, -0.0133,  0.0312,  0.0002,  0.0343, -0.0230,  0.0003,\n",
      "         0.0142,  0.0207,  0.0211,  0.0277,  0.0226, -0.0076, -0.0080, -0.0055,\n",
      "         0.0116,  0.0324,  0.0162,  0.0203,  0.0238, -0.0334, -0.0082, -0.0199,\n",
      "        -0.0256, -0.0227, -0.0179,  0.0153, -0.0287, -0.0343, -0.0115,  0.0168,\n",
      "        -0.0141,  0.0334, -0.0104, -0.0274,  0.0097, -0.0164,  0.0313,  0.0255,\n",
      "        -0.0055, -0.0269, -0.0260, -0.0236, -0.0151, -0.0126,  0.0344,  0.0228,\n",
      "         0.0339,  0.0105,  0.0291,  0.0050,  0.0279, -0.0020,  0.0004,  0.0353,\n",
      "        -0.0120, -0.0302,  0.0143, -0.0077, -0.0243, -0.0347,  0.0097, -0.0250,\n",
      "        -0.0147, -0.0192,  0.0223, -0.0225,  0.0137,  0.0243,  0.0062, -0.0064,\n",
      "         0.0345, -0.0190,  0.0097,  0.0035,  0.0080, -0.0023, -0.0235, -0.0188,\n",
      "        -0.0161,  0.0237, -0.0029, -0.0123, -0.0347, -0.0164,  0.0253, -0.0025,\n",
      "        -0.0306, -0.0109,  0.0161,  0.0345, -0.0091, -0.0112, -0.0304, -0.0245],\n",
      "       requires_grad=True)\n"
     ]
    }
   ],
   "source": [
    "print(model.fc1.weight)\n",
    "print(model.fc1.bias)"
   ]
  },
  {
   "cell_type": "markdown",
   "metadata": {},
   "source": [
    "For custom initialization, we want to modify these tensors in place. These are actually autograd *Variables*, so we need to get back the actual tensors with `model.fc1.weight.data`. Once we have the tensors, we can fill them with zeros (for biases) or random normal values."
   ]
  },
  {
   "cell_type": "code",
   "execution_count": 28,
   "metadata": {
    "tags": []
   },
   "outputs": [
    {
     "data": {
      "text/plain": [
       "tensor([0., 0., 0., 0., 0., 0., 0., 0., 0., 0., 0., 0., 0., 0., 0., 0., 0., 0., 0., 0., 0., 0., 0., 0.,\n",
       "        0., 0., 0., 0., 0., 0., 0., 0., 0., 0., 0., 0., 0., 0., 0., 0., 0., 0., 0., 0., 0., 0., 0., 0.,\n",
       "        0., 0., 0., 0., 0., 0., 0., 0., 0., 0., 0., 0., 0., 0., 0., 0., 0., 0., 0., 0., 0., 0., 0., 0.,\n",
       "        0., 0., 0., 0., 0., 0., 0., 0., 0., 0., 0., 0., 0., 0., 0., 0., 0., 0., 0., 0., 0., 0., 0., 0.,\n",
       "        0., 0., 0., 0., 0., 0., 0., 0., 0., 0., 0., 0., 0., 0., 0., 0., 0., 0., 0., 0., 0., 0., 0., 0.,\n",
       "        0., 0., 0., 0., 0., 0., 0., 0.])"
      ]
     },
     "execution_count": 28,
     "metadata": {},
     "output_type": "execute_result"
    }
   ],
   "source": [
    "# Set biases to all zeros\n",
    "model.fc1.bias.data.fill_(0)"
   ]
  },
  {
   "cell_type": "code",
   "execution_count": 29,
   "metadata": {
    "tags": []
   },
   "outputs": [
    {
     "data": {
      "text/plain": [
       "tensor([[-0.0005,  0.0073,  0.0038,  ..., -0.0035,  0.0049, -0.0111],\n",
       "        [-0.0020,  0.0116, -0.0043,  ...,  0.0103, -0.0157, -0.0047],\n",
       "        [ 0.0022,  0.0182, -0.0171,  ...,  0.0214, -0.0073, -0.0046],\n",
       "        ...,\n",
       "        [-0.0119, -0.0054,  0.0045,  ..., -0.0034, -0.0055,  0.0063],\n",
       "        [ 0.0028,  0.0057, -0.0077,  ..., -0.0029, -0.0024, -0.0024],\n",
       "        [-0.0180, -0.0156, -0.0036,  ..., -0.0013, -0.0046, -0.0103]])"
      ]
     },
     "execution_count": 29,
     "metadata": {},
     "output_type": "execute_result"
    }
   ],
   "source": [
    "# sample from random normal with standard dev = 0.01\n",
    "model.fc1.weight.data.normal_(std=0.01)"
   ]
  },
  {
   "cell_type": "markdown",
   "metadata": {},
   "source": [
    "### Forward pass\n",
    "\n",
    "Now that we have a network, let's see what happens when we pass in an image."
   ]
  },
  {
   "cell_type": "code",
   "execution_count": 30,
   "metadata": {
    "tags": []
   },
   "outputs": [
    {
     "data": {
      "image/png": "[encoded data removed]",
      "text/plain": [
       "<Figure size 432x648 with 2 Axes>"
      ]
     },
     "metadata": {
      "image/png": {
       "height": 235,
       "width": 424
      },
      "needs_background": "light"
     },
     "output_type": "display_data"
    }
   ],
   "source": [
    "# Grab some data \n",
    "dataiter = iter(trainloader)\n",
    "images, labels = dataiter.next()\n",
    "\n",
    "# Resize images into a 1D vector, new shape is (batch size, color channels, image pixels) \n",
    "images.resize_(64, 1, 784)\n",
    "# or images.resize_(images.shape[0], 1, 784) to automatically get batch size\n",
    "\n",
    "# Forward pass through the network\n",
    "img_idx = 0\n",
    "ps = model.forward(images[img_idx,:])\n",
    "\n",
    "img = images[img_idx]\n",
    "helper.view_classify(img.view(1, 28, 28), ps)"
   ]
  },
  {
   "cell_type": "markdown",
   "metadata": {},
   "source": [
    "As you can see above, our network has basically no idea what this digit is. It's because we haven't trained it yet, all the weights are random!\n",
    "\n",
    "### Using `nn.Sequential`\n",
    "\n",
    "PyTorch provides a convenient way to build networks like this where a tensor is passed sequentially through operations, `nn.Sequential` ([documentation](https://pytorch.org/docs/master/nn.html#torch.nn.Sequential)). Using this to build the equivalent network:"
   ]
  },
  {
   "cell_type": "code",
   "execution_count": 31,
   "metadata": {
    "tags": []
   },
   "outputs": [
    {
     "name": "stdout",
     "output_type": "stream",
     "text": [
      "Sequential(\n",
      "  (0): Linear(in_features=784, out_features=128, bias=True)\n",
      "  (1): ReLU()\n",
      "  (2): Linear(in_features=128, out_features=64, bias=True)\n",
      "  (3): ReLU()\n",
      "  (4): Linear(in_features=64, out_features=10, bias=True)\n",
      "  (5): Softmax(dim=1)\n",
      ")\n"
     ]
    },
    {
     "data": {
      "image/png": "[encoded data removed]",
      "text/plain": [
       "<Figure size 432x648 with 2 Axes>"
      ]
     },
     "metadata": {
      "image/png": {
       "height": 235,
       "width": 424
      },
      "needs_background": "light"
     },
     "output_type": "display_data"
    }
   ],
   "source": [
    "# Hyperparameters for our network\n",
    "input_size = 784\n",
    "hidden_sizes = [128, 64]\n",
    "output_size = 10\n",
    "\n",
    "# Build a feed-forward network\n",
    "model = nn.Sequential(nn.Linear(input_size, hidden_sizes[0]),\n",
    "                      nn.ReLU(),\n",
    "                      nn.Linear(hidden_sizes[0], hidden_sizes[1]),\n",
    "                      nn.ReLU(),\n",
    "                      nn.Linear(hidden_sizes[1], output_size),\n",
    "                      nn.Softmax(dim=1))\n",
    "print(model)\n",
    "\n",
    "# Forward pass through the network and display output\n",
    "images, labels = next(iter(trainloader))\n",
    "images.resize_(images.shape[0], 1, 784)\n",
    "ps = model.forward(images[0,:])\n",
    "helper.view_classify(images[0].view(1, 28, 28), ps)"
   ]
  },
  {
   "cell_type": "markdown",
   "metadata": {},
   "source": [
    "Here our model is the same as before: 784 input units, a hidden layer with 128 units, ReLU activation, 64 unit hidden layer, another ReLU, then the output layer with 10 units, and the softmax output.\n",
    "\n",
    "The operations are available by passing in the appropriate index. For example, if you want to get first Linear operation and look at the weights, you'd use `model[0]`."
   ]
  },
  {
   "cell_type": "code",
   "execution_count": 32,
   "metadata": {
    "tags": []
   },
   "outputs": [
    {
     "name": "stdout",
     "output_type": "stream",
     "text": [
      "Linear(in_features=784, out_features=128, bias=True)\n"
     ]
    },
    {
     "data": {
      "text/plain": [
       "Parameter containing:\n",
       "tensor([[ 0.0305,  0.0291,  0.0013,  ...,  0.0224,  0.0308, -0.0087],\n",
       "        [-0.0219,  0.0131,  0.0276,  ..., -0.0259, -0.0311, -0.0316],\n",
       "        [ 0.0158, -0.0115, -0.0292,  ..., -0.0191,  0.0313,  0.0007],\n",
       "        ...,\n",
       "        [ 0.0100, -0.0022, -0.0345,  ...,  0.0178,  0.0128,  0.0285],\n",
       "        [-0.0341, -0.0083,  0.0171,  ...,  0.0207,  0.0272,  0.0095],\n",
       "        [ 0.0199, -0.0124,  0.0287,  ...,  0.0209,  0.0224,  0.0102]],\n",
       "       requires_grad=True)"
      ]
     },
     "execution_count": 32,
     "metadata": {},
     "output_type": "execute_result"
    }
   ],
   "source": [
    "print(model[0])\n",
    "model[0].weight"
   ]
  },
  {
   "cell_type": "markdown",
   "metadata": {},
   "source": [
    "You can also pass in an `OrderedDict` to name the individual layers and operations, instead of using incremental integers. Note that dictionary keys must be unique, so _each operation must have a different name_."
   ]
  },
  {
   "cell_type": "code",
   "execution_count": 33,
   "metadata": {
    "tags": []
   },
   "outputs": [
    {
     "data": {
      "text/plain": [
       "Sequential(\n",
       "  (fc1): Linear(in_features=784, out_features=128, bias=True)\n",
       "  (relu1): ReLU()\n",
       "  (fc2): Linear(in_features=128, out_features=64, bias=True)\n",
       "  (relu2): ReLU()\n",
       "  (output): Linear(in_features=64, out_features=10, bias=True)\n",
       "  (softmax): Softmax(dim=1)\n",
       ")"
      ]
     },
     "execution_count": 33,
     "metadata": {},
     "output_type": "execute_result"
    }
   ],
   "source": [
    "from collections import OrderedDict\n",
    "model = nn.Sequential(OrderedDict([\n",
    "                      ('fc1', nn.Linear(input_size, hidden_sizes[0])),\n",
    "                      ('relu1', nn.ReLU()),\n",
    "                      ('fc2', nn.Linear(hidden_sizes[0], hidden_sizes[1])),\n",
    "                      ('relu2', nn.ReLU()),\n",
    "                      ('output', nn.Linear(hidden_sizes[1], output_size)),\n",
    "                      ('softmax', nn.Softmax(dim=1))]))\n",
    "model"
   ]
  },
  {
   "cell_type": "markdown",
   "metadata": {},
   "source": [
    "Now you can access layers either by integer or the name"
   ]
  },
  {
   "cell_type": "code",
   "execution_count": 34,
   "metadata": {
    "tags": []
   },
   "outputs": [
    {
     "name": "stdout",
     "output_type": "stream",
     "text": [
      "Linear(in_features=784, out_features=128, bias=True)\n",
      "Linear(in_features=784, out_features=128, bias=True)\n"
     ]
    }
   ],
   "source": [
    "print(model[0])\n",
    "print(model.fc1)"
   ]
  },
  {
   "cell_type": "markdown",
   "metadata": {},
   "source": [
    "In the next notebook, we'll see how we can train a neural network to accuractly predict the numbers appearing in the MNIST images."
   ]
  }
 ],
 "metadata": {
  "kernelspec": {
   "display_name": "Python 3 (ipykernel)",
   "language": "python",
   "name": "python3"
  },
  "language_info": {
   "codemirror_mode": {
    "name": "ipython",
    "version": 3
   },
   "file_extension": ".py",
   "mimetype": "text/x-python",
   "name": "python",
   "nbconvert_exporter": "python",
   "pygments_lexer": "ipython3",
   "version": "3.9.7"
  }
 },
 "nbformat": 4,
 "nbformat_minor": 4
}
